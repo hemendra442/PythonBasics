{
 "cells": [
  {
   "cell_type": "code",
   "execution_count": 1,
   "id": "9962b8cb",
   "metadata": {},
   "outputs": [],
   "source": [
    "#Feb 18 2023\n",
    "#https://pandas.pydata.org/docs/reference/api/pandas.DataFrame.select_dtypes.html\n",
    "#https://pandas.pydata.org/docs/getting_started/comparison/comparison_with_sql.html\n",
    "#https://pandas.pydata.org/docs/getting_started/comparison/comparison_with_spreadsheets.html"
   ]
  },
  {
   "cell_type": "code",
   "execution_count": 2,
   "id": "529a24fc",
   "metadata": {},
   "outputs": [],
   "source": [
    "#import libraries\n",
    "\n",
    "import pandas as pd\n",
    "import numpy as np"
   ]
  },
  {
   "cell_type": "code",
   "execution_count": 3,
   "id": "29c1a3f8",
   "metadata": {},
   "outputs": [
    {
     "name": "stdout",
     "output_type": "stream",
     "text": [
      "   Name  Id\n",
      "0  John   4\n",
      "1   Raj   5\n",
      "2  Khan   6\n",
      "Rows n Columns: 3 2\n"
     ]
    }
   ],
   "source": [
    "#create a data frame\n",
    "cdf = pd.DataFrame({'Name':['John','Raj','Khan'],'Id':[4,5,6]})\n",
    "print(cdf)\n",
    "print(\"Rows n Columns:\",len(cdf),len(cdf.columns))"
   ]
  },
  {
   "cell_type": "code",
   "execution_count": 4,
   "id": "edfebf6d",
   "metadata": {},
   "outputs": [
    {
     "data": {
      "text/html": [
       "<div>\n",
       "<style scoped>\n",
       "    .dataframe tbody tr th:only-of-type {\n",
       "        vertical-align: middle;\n",
       "    }\n",
       "\n",
       "    .dataframe tbody tr th {\n",
       "        vertical-align: top;\n",
       "    }\n",
       "\n",
       "    .dataframe thead th {\n",
       "        text-align: right;\n",
       "    }\n",
       "</style>\n",
       "<table border=\"1\" class=\"dataframe\">\n",
       "  <thead>\n",
       "    <tr style=\"text-align: right;\">\n",
       "      <th></th>\n",
       "      <th>OrderNumber</th>\n",
       "      <th>ClientName</th>\n",
       "      <th>ProductName</th>\n",
       "      <th>ProductType</th>\n",
       "      <th>UnitPrice</th>\n",
       "      <th>ProductQuantity</th>\n",
       "      <th>TotalPrice</th>\n",
       "      <th>Currency</th>\n",
       "      <th>DeliveryAddress</th>\n",
       "      <th>DeliveryCity</th>\n",
       "      <th>DeliveryPostcode</th>\n",
       "      <th>DeliveryCountry</th>\n",
       "      <th>DeliveryContactNumber</th>\n",
       "      <th>PaymentType</th>\n",
       "      <th>PaymentBillingCode</th>\n",
       "      <th>PaymentDate</th>\n",
       "    </tr>\n",
       "  </thead>\n",
       "  <tbody>\n",
       "    <tr>\n",
       "      <th>0</th>\n",
       "      <td>PO0060504-1</td>\n",
       "      <td>MacGyver Inc</td>\n",
       "      <td>Piano</td>\n",
       "      <td>Keyboard</td>\n",
       "      <td>4700</td>\n",
       "      <td>3</td>\n",
       "      <td>14100</td>\n",
       "      <td>GBP</td>\n",
       "      <td>72 Academy Street</td>\n",
       "      <td>Swindon</td>\n",
       "      <td>SN4 9QP</td>\n",
       "      <td>United Kingdom</td>\n",
       "      <td>+44 7911 843910</td>\n",
       "      <td>Debit</td>\n",
       "      <td>PO0060504-20210321</td>\n",
       "      <td>21/03/2021</td>\n",
       "    </tr>\n",
       "    <tr>\n",
       "      <th>1</th>\n",
       "      <td>PO0060504-2</td>\n",
       "      <td>Howell LLC</td>\n",
       "      <td>Bamboo Flute</td>\n",
       "      <td>Woodwind</td>\n",
       "      <td>60</td>\n",
       "      <td>1</td>\n",
       "      <td>60</td>\n",
       "      <td>GBP</td>\n",
       "      <td>91 Buckingham Rd</td>\n",
       "      <td>Grimsby</td>\n",
       "      <td>DN37 9TS</td>\n",
       "      <td>UNITED KINGDOM</td>\n",
       "      <td>+44 151 496 0566</td>\n",
       "      <td>Credit</td>\n",
       "      <td>PO0087294-20210317</td>\n",
       "      <td>17/03/2021</td>\n",
       "    </tr>\n",
       "    <tr>\n",
       "      <th>2</th>\n",
       "      <td>PO0060504-3</td>\n",
       "      <td>HOWELL LLC</td>\n",
       "      <td>Harp</td>\n",
       "      <td>String</td>\n",
       "      <td>940</td>\n",
       "      <td>2</td>\n",
       "      <td>1880</td>\n",
       "      <td>GBP</td>\n",
       "      <td>91 Buckingham Rd</td>\n",
       "      <td>Grimsby</td>\n",
       "      <td>DN37 9TS</td>\n",
       "      <td>UNITED KINGDOM</td>\n",
       "      <td>+44 151 496 0566</td>\n",
       "      <td>Credit</td>\n",
       "      <td>PO0087294-20210317</td>\n",
       "      <td>17/03/2021</td>\n",
       "    </tr>\n",
       "  </tbody>\n",
       "</table>\n",
       "</div>"
      ],
      "text/plain": [
       "   OrderNumber    ClientName   ProductName ProductType  UnitPrice  \\\n",
       "0  PO0060504-1  MacGyver Inc         Piano    Keyboard       4700   \n",
       "1  PO0060504-2    Howell LLC  Bamboo Flute    Woodwind         60   \n",
       "2  PO0060504-3    HOWELL LLC          Harp      String        940   \n",
       "\n",
       "   ProductQuantity  TotalPrice Currency    DeliveryAddress DeliveryCity  \\\n",
       "0                3       14100      GBP  72 Academy Street      Swindon   \n",
       "1                1          60      GBP   91 Buckingham Rd      Grimsby   \n",
       "2                2        1880      GBP   91 Buckingham Rd      Grimsby   \n",
       "\n",
       "  DeliveryPostcode DeliveryCountry DeliveryContactNumber PaymentType  \\\n",
       "0          SN4 9QP  United Kingdom       +44 7911 843910       Debit   \n",
       "1         DN37 9TS  UNITED KINGDOM      +44 151 496 0566      Credit   \n",
       "2         DN37 9TS  UNITED KINGDOM      +44 151 496 0566      Credit   \n",
       "\n",
       "   PaymentBillingCode PaymentDate  \n",
       "0  PO0060504-20210321  21/03/2021  \n",
       "1  PO0087294-20210317  17/03/2021  \n",
       "2  PO0087294-20210317  17/03/2021  "
      ]
     },
     "execution_count": 4,
     "metadata": {},
     "output_type": "execute_result"
    }
   ],
   "source": [
    "df = pd.read_csv(r'/Users/hemendra/Downloads/orders.csv',header=0)\n",
    "df.head(3)"
   ]
  },
  {
   "cell_type": "code",
   "execution_count": 5,
   "id": "e0befffd",
   "metadata": {},
   "outputs": [
    {
     "name": "stdout",
     "output_type": "stream",
     "text": [
      "df size 416 \n",
      "Rows n Columns: 26 16\n",
      "RangeIndex(start=0, stop=26, step=1)\n",
      "rows and columns: (26, 16)\n"
     ]
    }
   ],
   "source": [
    "#data frame summary\n",
    "print(\"df size\",df.size, \"\\nRows n Columns:\",len(df),len(df.columns))\n",
    "\n",
    "print(df.index)\n",
    "print(\"rows and columns:\",df.shape)"
   ]
  },
  {
   "cell_type": "code",
   "execution_count": 6,
   "id": "db763052",
   "metadata": {},
   "outputs": [
    {
     "name": "stdout",
     "output_type": "stream",
     "text": [
      "Length of the columns: 16\n",
      "Index(['OrderNumber', 'ClientName', 'ProductName', 'ProductType', 'UnitPrice',\n",
      "       'ProductQuantity', 'TotalPrice', 'Currency', 'DeliveryAddress',\n",
      "       'DeliveryCity', 'DeliveryPostcode', 'DeliveryCountry',\n",
      "       'DeliveryContactNumber', 'PaymentType', 'PaymentBillingCode',\n",
      "       'PaymentDate'],\n",
      "      dtype='object')\n"
     ]
    }
   ],
   "source": [
    "#get column names\n",
    "column_names = df.columns\n",
    "print(\"Length of the columns:\", len(column_names))\n",
    "print(column_names)"
   ]
  },
  {
   "cell_type": "code",
   "execution_count": 7,
   "id": "6d53a2eb",
   "metadata": {},
   "outputs": [
    {
     "name": "stdout",
     "output_type": "stream",
     "text": [
      "OrderNumber              object\n",
      "ClientName               object\n",
      "ProductName              object\n",
      "ProductType              object\n",
      "UnitPrice                 int64\n",
      "ProductQuantity           int64\n",
      "TotalPrice                int64\n",
      "Currency                 object\n",
      "DeliveryAddress          object\n",
      "DeliveryCity             object\n",
      "DeliveryPostcode         object\n",
      "DeliveryCountry          object\n",
      "DeliveryContactNumber    object\n",
      "PaymentType              object\n",
      "PaymentBillingCode       object\n",
      "PaymentDate              object\n",
      "dtype: object\n"
     ]
    }
   ],
   "source": [
    "#data type of columns\n",
    "print(df.dtypes)"
   ]
  },
  {
   "cell_type": "code",
   "execution_count": 8,
   "id": "a3a64a53",
   "metadata": {},
   "outputs": [
    {
     "data": {
      "text/plain": [
       "'MacGyver Inc'"
      ]
     },
     "execution_count": 8,
     "metadata": {},
     "output_type": "execute_result"
    }
   ],
   "source": [
    "df.at[0,'ClientName']"
   ]
  },
  {
   "cell_type": "code",
   "execution_count": 9,
   "id": "d078ba58",
   "metadata": {},
   "outputs": [
    {
     "data": {
      "text/plain": [
       "0    MacGyver Inc\n",
       "1      Howell LLC\n",
       "2      HOWELL LLC\n",
       "3      HOWELL LLC\n",
       "4      Howell LLC\n",
       "5     Padberg Inc\n",
       "Name: ClientName, dtype: object"
      ]
     },
     "execution_count": 9,
     "metadata": {},
     "output_type": "execute_result"
    }
   ],
   "source": [
    "df.loc[0:5,'ClientName']"
   ]
  },
  {
   "cell_type": "code",
   "execution_count": 10,
   "id": "bd3af604",
   "metadata": {},
   "outputs": [
    {
     "data": {
      "text/html": [
       "<div>\n",
       "<style scoped>\n",
       "    .dataframe tbody tr th:only-of-type {\n",
       "        vertical-align: middle;\n",
       "    }\n",
       "\n",
       "    .dataframe tbody tr th {\n",
       "        vertical-align: top;\n",
       "    }\n",
       "\n",
       "    .dataframe thead th {\n",
       "        text-align: right;\n",
       "    }\n",
       "</style>\n",
       "<table border=\"1\" class=\"dataframe\">\n",
       "  <thead>\n",
       "    <tr style=\"text-align: right;\">\n",
       "      <th></th>\n",
       "      <th>ProductName</th>\n",
       "      <th>ClientName</th>\n",
       "    </tr>\n",
       "  </thead>\n",
       "  <tbody>\n",
       "    <tr>\n",
       "      <th>0</th>\n",
       "      <td>Piano</td>\n",
       "      <td>MacGyver Inc</td>\n",
       "    </tr>\n",
       "    <tr>\n",
       "      <th>1</th>\n",
       "      <td>Bamboo Flute</td>\n",
       "      <td>Howell LLC</td>\n",
       "    </tr>\n",
       "    <tr>\n",
       "      <th>2</th>\n",
       "      <td>Harp</td>\n",
       "      <td>HOWELL LLC</td>\n",
       "    </tr>\n",
       "    <tr>\n",
       "      <th>3</th>\n",
       "      <td>Piano</td>\n",
       "      <td>HOWELL LLC</td>\n",
       "    </tr>\n",
       "  </tbody>\n",
       "</table>\n",
       "</div>"
      ],
      "text/plain": [
       "    ProductName    ClientName\n",
       "0         Piano  MacGyver Inc\n",
       "1  Bamboo Flute    Howell LLC\n",
       "2          Harp    HOWELL LLC\n",
       "3         Piano    HOWELL LLC"
      ]
     },
     "execution_count": 10,
     "metadata": {},
     "output_type": "execute_result"
    }
   ],
   "source": [
    "df.loc[0:3,{'ClientName','ProductName'}]"
   ]
  },
  {
   "cell_type": "code",
   "execution_count": 11,
   "id": "3d8f5c07",
   "metadata": {
    "scrolled": true
   },
   "outputs": [
    {
     "data": {
      "text/html": [
       "<div>\n",
       "<style scoped>\n",
       "    .dataframe tbody tr th:only-of-type {\n",
       "        vertical-align: middle;\n",
       "    }\n",
       "\n",
       "    .dataframe tbody tr th {\n",
       "        vertical-align: top;\n",
       "    }\n",
       "\n",
       "    .dataframe thead th {\n",
       "        text-align: right;\n",
       "    }\n",
       "</style>\n",
       "<table border=\"1\" class=\"dataframe\">\n",
       "  <thead>\n",
       "    <tr style=\"text-align: right;\">\n",
       "      <th></th>\n",
       "      <th>UnitPrice</th>\n",
       "      <th>ProductQuantity</th>\n",
       "      <th>TotalPrice</th>\n",
       "    </tr>\n",
       "  </thead>\n",
       "  <tbody>\n",
       "    <tr>\n",
       "      <th>0</th>\n",
       "      <td>4700</td>\n",
       "      <td>3</td>\n",
       "      <td>14100</td>\n",
       "    </tr>\n",
       "    <tr>\n",
       "      <th>1</th>\n",
       "      <td>60</td>\n",
       "      <td>1</td>\n",
       "      <td>60</td>\n",
       "    </tr>\n",
       "    <tr>\n",
       "      <th>2</th>\n",
       "      <td>940</td>\n",
       "      <td>2</td>\n",
       "      <td>1880</td>\n",
       "    </tr>\n",
       "  </tbody>\n",
       "</table>\n",
       "</div>"
      ],
      "text/plain": [
       "   UnitPrice  ProductQuantity  TotalPrice\n",
       "0       4700                3       14100\n",
       "1         60                1          60\n",
       "2        940                2        1880"
      ]
     },
     "execution_count": 11,
     "metadata": {},
     "output_type": "execute_result"
    }
   ],
   "source": [
    "intcolms = df.select_dtypes('int64')\n",
    "intcolms.head(3)"
   ]
  },
  {
   "cell_type": "code",
   "execution_count": 12,
   "id": "bfbdd060",
   "metadata": {},
   "outputs": [
    {
     "data": {
      "text/html": [
       "<div>\n",
       "<style scoped>\n",
       "    .dataframe tbody tr th:only-of-type {\n",
       "        vertical-align: middle;\n",
       "    }\n",
       "\n",
       "    .dataframe tbody tr th {\n",
       "        vertical-align: top;\n",
       "    }\n",
       "\n",
       "    .dataframe thead th {\n",
       "        text-align: right;\n",
       "    }\n",
       "</style>\n",
       "<table border=\"1\" class=\"dataframe\">\n",
       "  <thead>\n",
       "    <tr style=\"text-align: right;\">\n",
       "      <th></th>\n",
       "      <th>ProductName</th>\n",
       "      <th>ProductType</th>\n",
       "      <th>ClientName</th>\n",
       "      <th>OrderNumber</th>\n",
       "    </tr>\n",
       "  </thead>\n",
       "  <tbody>\n",
       "    <tr>\n",
       "      <th>0</th>\n",
       "      <td>Piano</td>\n",
       "      <td>Keyboard</td>\n",
       "      <td>MacGyver Inc</td>\n",
       "      <td>PO0060504-1</td>\n",
       "    </tr>\n",
       "    <tr>\n",
       "      <th>1</th>\n",
       "      <td>Bamboo Flute</td>\n",
       "      <td>Woodwind</td>\n",
       "      <td>Howell LLC</td>\n",
       "      <td>PO0060504-2</td>\n",
       "    </tr>\n",
       "    <tr>\n",
       "      <th>2</th>\n",
       "      <td>Harp</td>\n",
       "      <td>String</td>\n",
       "      <td>HOWELL LLC</td>\n",
       "      <td>PO0060504-3</td>\n",
       "    </tr>\n",
       "  </tbody>\n",
       "</table>\n",
       "</div>"
      ],
      "text/plain": [
       "    ProductName ProductType    ClientName  OrderNumber\n",
       "0         Piano    Keyboard  MacGyver Inc  PO0060504-1\n",
       "1  Bamboo Flute    Woodwind    Howell LLC  PO0060504-2\n",
       "2          Harp      String    HOWELL LLC  PO0060504-3"
      ]
     },
     "execution_count": 12,
     "metadata": {},
     "output_type": "execute_result"
    }
   ],
   "source": [
    "splitdf = df[{'OrderNumber','ClientName', 'ProductName', 'ProductType'}]\n",
    "splitdf.head(3)"
   ]
  },
  {
   "cell_type": "code",
   "execution_count": 13,
   "id": "edeba3c9",
   "metadata": {},
   "outputs": [
    {
     "data": {
      "text/plain": [
       "array(['MacGyver Inc', 'Howell LLC', 'HOWELL LLC', 'Padberg Inc',\n",
       "       'Russel Turner Limited', 'Quitzon, Luettgen and Waters',\n",
       "       'Stanton - Reilly', 'Rath - Schroeder', 'Gleason, Rau and Spinka',\n",
       "       'Zemlak LTD', 'ZEMLAK LTD'], dtype=object)"
      ]
     },
     "execution_count": 13,
     "metadata": {},
     "output_type": "execute_result"
    }
   ],
   "source": [
    "#unique values of a column\n",
    "splitdf.ClientName.unique()"
   ]
  },
  {
   "cell_type": "code",
   "execution_count": 14,
   "id": "a1f993dd",
   "metadata": {},
   "outputs": [
    {
     "data": {
      "text/html": [
       "<div>\n",
       "<style scoped>\n",
       "    .dataframe tbody tr th:only-of-type {\n",
       "        vertical-align: middle;\n",
       "    }\n",
       "\n",
       "    .dataframe tbody tr th {\n",
       "        vertical-align: top;\n",
       "    }\n",
       "\n",
       "    .dataframe thead th {\n",
       "        text-align: right;\n",
       "    }\n",
       "</style>\n",
       "<table border=\"1\" class=\"dataframe\">\n",
       "  <thead>\n",
       "    <tr style=\"text-align: right;\">\n",
       "      <th></th>\n",
       "      <th>OrderNumber</th>\n",
       "      <th>ProductName</th>\n",
       "      <th>ProductType</th>\n",
       "      <th>ClientName</th>\n",
       "    </tr>\n",
       "  </thead>\n",
       "  <tbody>\n",
       "    <tr>\n",
       "      <th>0</th>\n",
       "      <td>PO0060504-1</td>\n",
       "      <td>Piano</td>\n",
       "      <td>Keyboard</td>\n",
       "      <td>MacGyver Inc</td>\n",
       "    </tr>\n",
       "    <tr>\n",
       "      <th>1</th>\n",
       "      <td>PO0060504-2</td>\n",
       "      <td>Bamboo Flute</td>\n",
       "      <td>Woodwind</td>\n",
       "      <td>Howell LLC</td>\n",
       "    </tr>\n",
       "    <tr>\n",
       "      <th>2</th>\n",
       "      <td>PO0060504-3</td>\n",
       "      <td>Harp</td>\n",
       "      <td>String</td>\n",
       "      <td>HOWELL LLC</td>\n",
       "    </tr>\n",
       "  </tbody>\n",
       "</table>\n",
       "</div>"
      ],
      "text/plain": [
       "   OrderNumber   ProductName ProductType    ClientName\n",
       "0  PO0060504-1         Piano    Keyboard  MacGyver Inc\n",
       "1  PO0060504-2  Bamboo Flute    Woodwind    Howell LLC\n",
       "2  PO0060504-3          Harp      String    HOWELL LLC"
      ]
     },
     "execution_count": 14,
     "metadata": {},
     "output_type": "execute_result"
    }
   ],
   "source": [
    "#Feb 19\n",
    "df.get(['OrderNumber','ProductName','ProductType','ClientName']).head(3)\n",
    "#print(len(df), len(df.columns))"
   ]
  },
  {
   "cell_type": "code",
   "execution_count": 15,
   "id": "6ff68cce",
   "metadata": {},
   "outputs": [],
   "source": [
    "#splitdf.where(splitdf['ClientName'] =='MacGyver Inc')"
   ]
  },
  {
   "cell_type": "code",
   "execution_count": 16,
   "id": "b8c07bd8",
   "metadata": {},
   "outputs": [
    {
     "data": {
      "text/plain": [
       "ClientName\n",
       "Gleason, Rau and Spinka         4\n",
       "HOWELL LLC                      2\n",
       "Howell LLC                      2\n",
       "MacGyver Inc                    1\n",
       "Padberg Inc                     4\n",
       "Quitzon, Luettgen and Waters    2\n",
       "Rath - Schroeder                3\n",
       "Russel Turner Limited           1\n",
       "Stanton - Reilly                3\n",
       "ZEMLAK LTD                      3\n",
       "Zemlak LTD                      1\n",
       "dtype: int64"
      ]
     },
     "execution_count": 16,
     "metadata": {},
     "output_type": "execute_result"
    }
   ],
   "source": [
    "splitdf.groupby(\"ClientName\").size()"
   ]
  },
  {
   "cell_type": "code",
   "execution_count": 17,
   "id": "41090e23",
   "metadata": {},
   "outputs": [
    {
     "data": {
      "text/html": [
       "<div>\n",
       "<style scoped>\n",
       "    .dataframe tbody tr th:only-of-type {\n",
       "        vertical-align: middle;\n",
       "    }\n",
       "\n",
       "    .dataframe tbody tr th {\n",
       "        vertical-align: top;\n",
       "    }\n",
       "\n",
       "    .dataframe thead th {\n",
       "        text-align: right;\n",
       "    }\n",
       "</style>\n",
       "<table border=\"1\" class=\"dataframe\">\n",
       "  <thead>\n",
       "    <tr style=\"text-align: right;\">\n",
       "      <th></th>\n",
       "      <th>Name</th>\n",
       "      <th>Id</th>\n",
       "    </tr>\n",
       "  </thead>\n",
       "  <tbody>\n",
       "    <tr>\n",
       "      <th>0</th>\n",
       "      <td>John</td>\n",
       "      <td>4</td>\n",
       "    </tr>\n",
       "    <tr>\n",
       "      <th>1</th>\n",
       "      <td>Raj</td>\n",
       "      <td>5</td>\n",
       "    </tr>\n",
       "    <tr>\n",
       "      <th>2</th>\n",
       "      <td>Khan</td>\n",
       "      <td>6</td>\n",
       "    </tr>\n",
       "    <tr>\n",
       "      <th>0</th>\n",
       "      <td>Jane</td>\n",
       "      <td>14</td>\n",
       "    </tr>\n",
       "    <tr>\n",
       "      <th>1</th>\n",
       "      <td>Raju</td>\n",
       "      <td>25</td>\n",
       "    </tr>\n",
       "    <tr>\n",
       "      <th>2</th>\n",
       "      <td>Khani</td>\n",
       "      <td>36</td>\n",
       "    </tr>\n",
       "  </tbody>\n",
       "</table>\n",
       "</div>"
      ],
      "text/plain": [
       "    Name  Id\n",
       "0   John   4\n",
       "1    Raj   5\n",
       "2   Khan   6\n",
       "0   Jane  14\n",
       "1   Raju  25\n",
       "2  Khani  36"
      ]
     },
     "execution_count": 17,
     "metadata": {},
     "output_type": "execute_result"
    }
   ],
   "source": [
    "#Append in Pandas\n",
    "\n",
    "dfj1 = pd.DataFrame({'Name':['John','Raj','Khan'],'Id':[4,5,6]})\n",
    "dfj2 = pd.DataFrame({'Name':['Jane','Raju','Khani'],'Id':[14,25,36]})\n",
    "\n",
    "joindf = dfj1.append(dfj2)\n",
    "joindf.head(10)"
   ]
  },
  {
   "cell_type": "code",
   "execution_count": 18,
   "id": "745abc43",
   "metadata": {},
   "outputs": [
    {
     "data": {
      "text/html": [
       "<div>\n",
       "<style scoped>\n",
       "    .dataframe tbody tr th:only-of-type {\n",
       "        vertical-align: middle;\n",
       "    }\n",
       "\n",
       "    .dataframe tbody tr th {\n",
       "        vertical-align: top;\n",
       "    }\n",
       "\n",
       "    .dataframe thead th {\n",
       "        text-align: right;\n",
       "    }\n",
       "</style>\n",
       "<table border=\"1\" class=\"dataframe\">\n",
       "  <thead>\n",
       "    <tr style=\"text-align: right;\">\n",
       "      <th></th>\n",
       "      <th>Name</th>\n",
       "      <th>EmpId</th>\n",
       "      <th>Manger</th>\n",
       "    </tr>\n",
       "  </thead>\n",
       "  <tbody>\n",
       "    <tr>\n",
       "      <th>0</th>\n",
       "      <td>John</td>\n",
       "      <td>4</td>\n",
       "      <td>Jane</td>\n",
       "    </tr>\n",
       "    <tr>\n",
       "      <th>1</th>\n",
       "      <td>Raj</td>\n",
       "      <td>5</td>\n",
       "      <td>Raju</td>\n",
       "    </tr>\n",
       "    <tr>\n",
       "      <th>2</th>\n",
       "      <td>Khan</td>\n",
       "      <td>6</td>\n",
       "      <td>Khani</td>\n",
       "    </tr>\n",
       "  </tbody>\n",
       "</table>\n",
       "</div>"
      ],
      "text/plain": [
       "   Name  EmpId Manger\n",
       "0  John      4   Jane\n",
       "1   Raj      5   Raju\n",
       "2  Khan      6  Khani"
      ]
     },
     "execution_count": 18,
     "metadata": {},
     "output_type": "execute_result"
    }
   ],
   "source": [
    "#Inner Join\n",
    "\n",
    "dfj1 = pd.DataFrame({'Name':['John','Raj','Khan'],'EmpId':[4,5,6]})\n",
    "dfj2 = pd.DataFrame({'Manger':['Jane','Raju','Khani'],'EmpId':[4,5,6]})\n",
    "\n",
    "joindf = dfj1.merge(dfj2,on ='EmpId', how='inner')\n",
    "joindf.head(10)"
   ]
  },
  {
   "cell_type": "code",
   "execution_count": 19,
   "id": "4f9ed2ac",
   "metadata": {},
   "outputs": [
    {
     "data": {
      "text/html": [
       "<div>\n",
       "<style scoped>\n",
       "    .dataframe tbody tr th:only-of-type {\n",
       "        vertical-align: middle;\n",
       "    }\n",
       "\n",
       "    .dataframe tbody tr th {\n",
       "        vertical-align: top;\n",
       "    }\n",
       "\n",
       "    .dataframe thead th {\n",
       "        text-align: right;\n",
       "    }\n",
       "</style>\n",
       "<table border=\"1\" class=\"dataframe\">\n",
       "  <thead>\n",
       "    <tr style=\"text-align: right;\">\n",
       "      <th></th>\n",
       "      <th>Name</th>\n",
       "      <th>EmpId</th>\n",
       "      <th>Manger</th>\n",
       "    </tr>\n",
       "  </thead>\n",
       "  <tbody>\n",
       "    <tr>\n",
       "      <th>0</th>\n",
       "      <td>John</td>\n",
       "      <td>4</td>\n",
       "      <td>Jane</td>\n",
       "    </tr>\n",
       "    <tr>\n",
       "      <th>1</th>\n",
       "      <td>Raj</td>\n",
       "      <td>5</td>\n",
       "      <td>Raju</td>\n",
       "    </tr>\n",
       "    <tr>\n",
       "      <th>2</th>\n",
       "      <td>NaN</td>\n",
       "      <td>6</td>\n",
       "      <td>Khani</td>\n",
       "    </tr>\n",
       "  </tbody>\n",
       "</table>\n",
       "</div>"
      ],
      "text/plain": [
       "   Name  EmpId Manger\n",
       "0  John      4   Jane\n",
       "1   Raj      5   Raju\n",
       "2   NaN      6  Khani"
      ]
     },
     "execution_count": 19,
     "metadata": {},
     "output_type": "execute_result"
    }
   ],
   "source": [
    "#Right Join\n",
    "\n",
    "dfj1 = pd.DataFrame({'Name':['John','Raj','Khan'],'EmpId':[4,5,10]})\n",
    "dfj2 = pd.DataFrame({'Manger':['Jane','Raju','Khani'],'EmpId':[4,5,6]})\n",
    "\n",
    "joindf = dfj1.merge(dfj2,on ='EmpId', how='right')\n",
    "joindf.head(10)"
   ]
  },
  {
   "cell_type": "code",
   "execution_count": 20,
   "id": "d82b00b4",
   "metadata": {},
   "outputs": [
    {
     "data": {
      "text/html": [
       "<div>\n",
       "<style scoped>\n",
       "    .dataframe tbody tr th:only-of-type {\n",
       "        vertical-align: middle;\n",
       "    }\n",
       "\n",
       "    .dataframe tbody tr th {\n",
       "        vertical-align: top;\n",
       "    }\n",
       "\n",
       "    .dataframe thead th {\n",
       "        text-align: right;\n",
       "    }\n",
       "</style>\n",
       "<table border=\"1\" class=\"dataframe\">\n",
       "  <thead>\n",
       "    <tr style=\"text-align: right;\">\n",
       "      <th></th>\n",
       "      <th>Name</th>\n",
       "      <th>EmpId</th>\n",
       "      <th>Manger</th>\n",
       "    </tr>\n",
       "  </thead>\n",
       "  <tbody>\n",
       "    <tr>\n",
       "      <th>0</th>\n",
       "      <td>John</td>\n",
       "      <td>4</td>\n",
       "      <td>Jane</td>\n",
       "    </tr>\n",
       "    <tr>\n",
       "      <th>1</th>\n",
       "      <td>Raj</td>\n",
       "      <td>5</td>\n",
       "      <td>Raju</td>\n",
       "    </tr>\n",
       "    <tr>\n",
       "      <th>2</th>\n",
       "      <td>Khan</td>\n",
       "      <td>10</td>\n",
       "      <td>NaN</td>\n",
       "    </tr>\n",
       "  </tbody>\n",
       "</table>\n",
       "</div>"
      ],
      "text/plain": [
       "   Name  EmpId Manger\n",
       "0  John      4   Jane\n",
       "1   Raj      5   Raju\n",
       "2  Khan     10    NaN"
      ]
     },
     "execution_count": 20,
     "metadata": {},
     "output_type": "execute_result"
    }
   ],
   "source": [
    "#Left Join\n",
    "\n",
    "dfj1 = pd.DataFrame({'Name':['John','Raj','Khan'],'EmpId':[4,5,10]})\n",
    "dfj2 = pd.DataFrame({'Manger':['Jane','Raju','Khani'],'EmpId':[4,5,6]})\n",
    "\n",
    "joindf = dfj1.merge(dfj2,on ='EmpId', how='left')\n",
    "joindf.head(10)"
   ]
  },
  {
   "cell_type": "code",
   "execution_count": 21,
   "id": "d8eca2b6",
   "metadata": {},
   "outputs": [
    {
     "data": {
      "text/html": [
       "<div>\n",
       "<style scoped>\n",
       "    .dataframe tbody tr th:only-of-type {\n",
       "        vertical-align: middle;\n",
       "    }\n",
       "\n",
       "    .dataframe tbody tr th {\n",
       "        vertical-align: top;\n",
       "    }\n",
       "\n",
       "    .dataframe thead th {\n",
       "        text-align: right;\n",
       "    }\n",
       "</style>\n",
       "<table border=\"1\" class=\"dataframe\">\n",
       "  <thead>\n",
       "    <tr style=\"text-align: right;\">\n",
       "      <th></th>\n",
       "      <th>Name</th>\n",
       "      <th>EmpId</th>\n",
       "      <th>Manger</th>\n",
       "    </tr>\n",
       "  </thead>\n",
       "  <tbody>\n",
       "    <tr>\n",
       "      <th>0</th>\n",
       "      <td>John</td>\n",
       "      <td>4</td>\n",
       "      <td>Jane</td>\n",
       "    </tr>\n",
       "    <tr>\n",
       "      <th>1</th>\n",
       "      <td>Raj</td>\n",
       "      <td>5</td>\n",
       "      <td>Raju</td>\n",
       "    </tr>\n",
       "    <tr>\n",
       "      <th>2</th>\n",
       "      <td>Khan</td>\n",
       "      <td>10</td>\n",
       "      <td>NaN</td>\n",
       "    </tr>\n",
       "    <tr>\n",
       "      <th>3</th>\n",
       "      <td>NaN</td>\n",
       "      <td>6</td>\n",
       "      <td>Khani</td>\n",
       "    </tr>\n",
       "  </tbody>\n",
       "</table>\n",
       "</div>"
      ],
      "text/plain": [
       "   Name  EmpId Manger\n",
       "0  John      4   Jane\n",
       "1   Raj      5   Raju\n",
       "2  Khan     10    NaN\n",
       "3   NaN      6  Khani"
      ]
     },
     "execution_count": 21,
     "metadata": {},
     "output_type": "execute_result"
    }
   ],
   "source": [
    "#outer Join\n",
    "\n",
    "dfj1 = pd.DataFrame({'Name':['John','Raj','Khan'],'EmpId':[4,5,10]})\n",
    "dfj2 = pd.DataFrame({'Manger':['Jane','Raju','Khani'],'EmpId':[4,5,6]})\n",
    "\n",
    "joindf = dfj1.merge(dfj2,on ='EmpId', how='outer')\n",
    "joindf.head(10)"
   ]
  },
  {
   "cell_type": "code",
   "execution_count": null,
   "id": "f9d5ced9",
   "metadata": {},
   "outputs": [],
   "source": []
  }
 ],
 "metadata": {
  "kernelspec": {
   "display_name": "Python 3",
   "language": "python",
   "name": "python3"
  },
  "language_info": {
   "codemirror_mode": {
    "name": "ipython",
    "version": 3
   },
   "file_extension": ".py",
   "mimetype": "text/x-python",
   "name": "python",
   "nbconvert_exporter": "python",
   "pygments_lexer": "ipython3",
   "version": "3.8.8"
  }
 },
 "nbformat": 4,
 "nbformat_minor": 5
}
